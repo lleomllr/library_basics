{
  "cells": [
    {
      "cell_type": "code",
      "source": [
        "import numpy as np\n"
      ],
      "metadata": {
        "id": "kBx0Ez7peXbo"
      },
      "execution_count": 1,
      "outputs": []
    },
    {
      "cell_type": "code",
      "source": [
        "#initialiser tout à 0\n",
        "#np.zeros(5)\n",
        "np.zeros((2,3))"
      ],
      "metadata": {
        "id": "7g8n3p6Kjd7I",
        "outputId": "458f7e74-1c98-454d-eecc-a4e71f2088ce",
        "colab": {
          "base_uri": "https://localhost:8080/"
        }
      },
      "execution_count": 48,
      "outputs": [
        {
          "output_type": "execute_result",
          "data": {
            "text/plain": [
              "array([[0., 0., 0.],\n",
              "       [0., 0., 0.]])"
            ]
          },
          "metadata": {},
          "execution_count": 48
        }
      ]
    },
    {
      "cell_type": "code",
      "source": [
        "#Initialiser tout à 1\n",
        "np.ones((4,2,2), dtype='int32')"
      ],
      "metadata": {
        "id": "QF3JgPj9jlh_",
        "outputId": "5f4d425a-8fc2-4573-ddd2-a381b9ba7acf",
        "colab": {
          "base_uri": "https://localhost:8080/"
        }
      },
      "execution_count": 50,
      "outputs": [
        {
          "output_type": "execute_result",
          "data": {
            "text/plain": [
              "array([[[1, 1],\n",
              "        [1, 1]],\n",
              "\n",
              "       [[1, 1],\n",
              "        [1, 1]],\n",
              "\n",
              "       [[1, 1],\n",
              "        [1, 1]],\n",
              "\n",
              "       [[1, 1],\n",
              "        [1, 1]]], dtype=int32)"
            ]
          },
          "metadata": {},
          "execution_count": 50
        }
      ]
    },
    {
      "cell_type": "code",
      "source": [
        "#Autres nombres\n",
        "np.full((2,2), 99)"
      ],
      "metadata": {
        "id": "n7Ty-gKPj3t0",
        "outputId": "46dd6c24-2a18-421f-8c16-fbf5fafe1f77",
        "colab": {
          "base_uri": "https://localhost:8080/"
        }
      },
      "execution_count": 51,
      "outputs": [
        {
          "output_type": "execute_result",
          "data": {
            "text/plain": [
              "array([[99, 99],\n",
              "       [99, 99]])"
            ]
          },
          "metadata": {},
          "execution_count": 51
        }
      ]
    },
    {
      "cell_type": "code",
      "source": [
        "#Autres nombres (full_like methode)\n",
        "np.full_like(a, 4)"
      ],
      "metadata": {
        "id": "vMQ_e-Fbj_1s",
        "outputId": "a8ab88cb-163f-45b0-c117-daf2acfe8691",
        "colab": {
          "base_uri": "https://localhost:8080/"
        }
      },
      "execution_count": 54,
      "outputs": [
        {
          "output_type": "execute_result",
          "data": {
            "text/plain": [
              "array([[4, 4, 4, 4, 4, 4, 4],\n",
              "       [4, 4, 4, 4, 4, 4, 4]])"
            ]
          },
          "metadata": {},
          "execution_count": 54
        }
      ]
    },
    {
      "cell_type": "code",
      "source": [
        "#Nombres décimaux aléatoires\n",
        "#np.random.rand(4,2,3)\n",
        "np.random.random_sample(a.shape)"
      ],
      "metadata": {
        "id": "YAyG11FckVFT",
        "outputId": "842646d3-8d56-440d-a234-c9dc4489333d",
        "colab": {
          "base_uri": "https://localhost:8080/"
        }
      },
      "execution_count": 58,
      "outputs": [
        {
          "output_type": "execute_result",
          "data": {
            "text/plain": [
              "array([[0.15153203, 0.77346532, 0.05444551, 0.07168253, 0.78586176,\n",
              "        0.75336862, 0.12375756],\n",
              "       [0.42203689, 0.55937425, 0.04303002, 0.21411449, 0.66840147,\n",
              "        0.47335173, 0.85679145]])"
            ]
          },
          "metadata": {},
          "execution_count": 58
        }
      ]
    },
    {
      "cell_type": "code",
      "source": [
        "#Valeurs Int aléatoires\n",
        "np.random.randint(4,7, size=(3,3))"
      ],
      "metadata": {
        "id": "mn2R7th_kxUw",
        "outputId": "ed6e24fa-477b-44be-a15c-44f7684cc4b4",
        "colab": {
          "base_uri": "https://localhost:8080/"
        }
      },
      "execution_count": 61,
      "outputs": [
        {
          "output_type": "execute_result",
          "data": {
            "text/plain": [
              "array([[5, 6, 5],\n",
              "       [4, 6, 4],\n",
              "       [4, 5, 4]])"
            ]
          },
          "metadata": {},
          "execution_count": 61
        }
      ]
    },
    {
      "cell_type": "code",
      "source": [
        "#Matrice identité\n",
        "np.identity(4)"
      ],
      "metadata": {
        "id": "XZK7HYwblEz8",
        "outputId": "3677f771-07e0-41db-a7e3-aa230b2154e4",
        "colab": {
          "base_uri": "https://localhost:8080/"
        }
      },
      "execution_count": 63,
      "outputs": [
        {
          "output_type": "execute_result",
          "data": {
            "text/plain": [
              "array([[1., 0., 0., 0.],\n",
              "       [0., 1., 0., 0.],\n",
              "       [0., 0., 1., 0.],\n",
              "       [0., 0., 0., 1.]])"
            ]
          },
          "metadata": {},
          "execution_count": 63
        }
      ]
    },
    {
      "cell_type": "code",
      "source": [
        "#Répétition d'un tableau\n",
        "arr = np.array([[1,2,3]])\n",
        "r1 = np.repeat(arr, 3, axis=0)\n",
        "print(r1)"
      ],
      "metadata": {
        "id": "bOo76LdTlQj3",
        "outputId": "d422fc8c-fc58-447f-c195-5af709b2368b",
        "colab": {
          "base_uri": "https://localhost:8080/"
        }
      },
      "execution_count": 68,
      "outputs": [
        {
          "output_type": "stream",
          "name": "stdout",
          "text": [
            "[[1 2 3]\n",
            " [1 2 3]\n",
            " [1 2 3]]\n"
          ]
        }
      ]
    },
    {
      "cell_type": "code",
      "source": [
        "output = np.ones((5,5))\n",
        "print(output)\n",
        "\n",
        "z = np.zeros((3,3))\n",
        "z[1,1] = 9\n",
        "print(z)\n",
        "\n",
        "output[1:4,1:4] = z\n",
        "print(output)"
      ],
      "metadata": {
        "id": "ub08gd-2lqSU",
        "outputId": "99d07b69-916b-4409-ae37-54eecc9d2e72",
        "colab": {
          "base_uri": "https://localhost:8080/"
        }
      },
      "execution_count": 72,
      "outputs": [
        {
          "output_type": "stream",
          "name": "stdout",
          "text": [
            "[[1. 1. 1. 1. 1.]\n",
            " [1. 1. 1. 1. 1.]\n",
            " [1. 1. 1. 1. 1.]\n",
            " [1. 1. 1. 1. 1.]\n",
            " [1. 1. 1. 1. 1.]]\n",
            "[[0. 0. 0.]\n",
            " [0. 9. 0.]\n",
            " [0. 0. 0.]]\n",
            "[[1. 1. 1. 1. 1.]\n",
            " [1. 0. 0. 0. 1.]\n",
            " [1. 0. 9. 0. 1.]\n",
            " [1. 0. 0. 0. 1.]\n",
            " [1. 1. 1. 1. 1.]]\n"
          ]
        }
      ]
    },
    {
      "cell_type": "code",
      "source": [
        "# ATTENTION !!!\n",
        "a = np.array([1,2,3])\n",
        "b = a\n",
        "b[0]=100\n",
        "print(a) #modif aussi dans a alors que l'on veut que dans b\n",
        "print(b)"
      ],
      "metadata": {
        "id": "7B8eNCP_mGe8",
        "outputId": "2a56b4d1-83ef-4df8-c51b-1f76777454fe",
        "colab": {
          "base_uri": "https://localhost:8080/"
        }
      },
      "execution_count": 76,
      "outputs": [
        {
          "output_type": "stream",
          "name": "stdout",
          "text": [
            "[100   2   3]\n",
            "[100   2   3]\n"
          ]
        }
      ]
    },
    {
      "cell_type": "code",
      "source": [
        "a = np.array([1,2,3])\n",
        "b = a.copy()\n",
        "b[0]=100\n",
        "print(a)\n",
        "print(b) #modif que dans b"
      ],
      "metadata": {
        "id": "wLANxu_bmhQD",
        "outputId": "a2e26fbe-c4ce-472d-d7fa-f6ba2c922d8a",
        "colab": {
          "base_uri": "https://localhost:8080/"
        }
      },
      "execution_count": 78,
      "outputs": [
        {
          "output_type": "stream",
          "name": "stdout",
          "text": [
            "[1 2 3]\n",
            "[100   2   3]\n"
          ]
        }
      ]
    }
  ],
  "metadata": {
    "colab": {
      "name": "Bienvenue dans Colaboratory",
      "provenance": []
    },
    "kernelspec": {
      "display_name": "Python 3",
      "name": "python3"
    }
  },
  "nbformat": 4,
  "nbformat_minor": 0
}