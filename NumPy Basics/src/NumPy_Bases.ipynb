{
  "cells": [
    {
      "cell_type": "code",
      "source": [
        "import numpy as np\n"
      ],
      "metadata": {
        "id": "kBx0Ez7peXbo"
      },
      "execution_count": 1,
      "outputs": []
    },
    {
      "cell_type": "code",
      "source": [
        "a = np.array([1, 2, 3], dtype='int32')\n",
        "print(a)"
      ],
      "metadata": {
        "id": "91sPEKw0ed9A",
        "outputId": "d3ba908c-72fa-449b-eaea-919d11042438",
        "colab": {
          "base_uri": "https://localhost:8080/"
        }
      },
      "execution_count": 16,
      "outputs": [
        {
          "output_type": "stream",
          "name": "stdout",
          "text": [
            "[1 2 3]\n"
          ]
        }
      ]
    },
    {
      "cell_type": "code",
      "source": [
        "b = np.array([[9.0, 8.0, 7.0], [6.0, 5.0, 4.0]])\n",
        "print(b)"
      ],
      "metadata": {
        "id": "Wmi7A1yzek63",
        "outputId": "efbc66e3-4b1e-4503-861c-f1ffc3e041b7",
        "colab": {
          "base_uri": "https://localhost:8080/"
        }
      },
      "execution_count": 3,
      "outputs": [
        {
          "output_type": "stream",
          "name": "stdout",
          "text": [
            "[[9. 8. 7.]\n",
            " [6. 5. 4.]]\n"
          ]
        }
      ]
    },
    {
      "cell_type": "code",
      "source": [
        "#Obtenir la dimension d'un array\n",
        "b.ndim"
      ],
      "metadata": {
        "id": "e319Nw3peyQP",
        "outputId": "676f84fd-d8d2-49dd-ebc5-c460debadcfa",
        "colab": {
          "base_uri": "https://localhost:8080/"
        }
      },
      "execution_count": 5,
      "outputs": [
        {
          "output_type": "execute_result",
          "data": {
            "text/plain": [
              "2"
            ]
          },
          "metadata": {},
          "execution_count": 5
        }
      ]
    },
    {
      "cell_type": "code",
      "source": [
        "#Obtenir la forme\n",
        "b.shape"
      ],
      "metadata": {
        "id": "0pwzbFY_e8mr",
        "outputId": "6f02e966-75f7-4831-cdfe-ee5aba2fb807",
        "colab": {
          "base_uri": "https://localhost:8080/"
        }
      },
      "execution_count": 7,
      "outputs": [
        {
          "output_type": "execute_result",
          "data": {
            "text/plain": [
              "(2, 3)"
            ]
          },
          "metadata": {},
          "execution_count": 7
        }
      ]
    },
    {
      "cell_type": "code",
      "source": [
        "#Obtenir le type\n",
        "a.dtype\n",
        "\n"
      ],
      "metadata": {
        "id": "2jdZ10dSfH0Z",
        "outputId": "af34077f-078c-40dc-8e30-7f1c7bcc8088",
        "colab": {
          "base_uri": "https://localhost:8080/"
        }
      },
      "execution_count": 19,
      "outputs": [
        {
          "output_type": "execute_result",
          "data": {
            "text/plain": [
              "dtype('int32')"
            ]
          },
          "metadata": {},
          "execution_count": 19
        }
      ]
    },
    {
      "cell_type": "code",
      "source": [
        "#Obtenir la taille\n",
        "a.itemsize"
      ],
      "metadata": {
        "id": "AUX-5JRKfowk",
        "outputId": "4903c9f4-69af-4aff-c98a-a2bd995000b5",
        "colab": {
          "base_uri": "https://localhost:8080/"
        }
      },
      "execution_count": 20,
      "outputs": [
        {
          "output_type": "execute_result",
          "data": {
            "text/plain": [
              "4"
            ]
          },
          "metadata": {},
          "execution_count": 20
        }
      ]
    },
    {
      "cell_type": "code",
      "source": [
        "#Obtenir la taille totale (nb total d'éléments)\n",
        "#a.size\n",
        "#a.size * a.itemsize\n",
        "a.nbytes"
      ],
      "metadata": {
        "id": "bVdzsE36fp-7",
        "outputId": "3539cb36-f161-4fcb-e870-84c9d77f1e83",
        "colab": {
          "base_uri": "https://localhost:8080/"
        }
      },
      "execution_count": 23,
      "outputs": [
        {
          "output_type": "execute_result",
          "data": {
            "text/plain": [
              "12"
            ]
          },
          "metadata": {},
          "execution_count": 23
        }
      ]
    }
  ],
  "metadata": {
    "colab": {
      "name": "Bienvenue dans Colaboratory",
      "provenance": []
    },
    "kernelspec": {
      "display_name": "Python 3",
      "name": "python3"
    }
  },
  "nbformat": 4,
  "nbformat_minor": 0
}